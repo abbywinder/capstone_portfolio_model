{
 "cells": [
  {
   "cell_type": "code",
   "execution_count": null,
   "id": "599b8c71",
   "metadata": {},
   "outputs": [],
   "source": [
    "import numpy as np\n",
    "import pandas as pd\n",
    "from sklearn.datasets import fetch_california_housing\n",
    "from sklearn.model_selection import train_test_split, cross_val_score, KFold\n",
    "from sklearn.preprocessing import MinMaxScaler\n",
    "from sklearn.preprocessing import PolynomialFeatures\n",
    "from sklearn.linear_model import LinearRegression\n",
    "from sklearn.ensemble import RandomForestRegressor\n",
    "from sklearn.tree import DecisionTreeRegressor\n",
    "from sklearn.svm import SVR\n",
    "import xgboost as xgb\n",
    "import optuna\n",
    "from sklearn.pipeline import Pipeline\n",
    "from sklearn.metrics import mean_squared_error, make_scorer"
   ]
  },
  {
   "cell_type": "markdown",
   "id": "3f880086",
   "metadata": {},
   "source": [
    "#### Objective\n",
    "House price prediction"
   ]
  },
  {
   "cell_type": "code",
   "execution_count": null,
   "id": "d268da0c",
   "metadata": {},
   "outputs": [],
   "source": [
    "dataset = fetch_california_housing()"
   ]
  },
  {
   "cell_type": "markdown",
   "id": "d19773da",
   "metadata": {},
   "source": [
    "Preprocessing"
   ]
  },
  {
   "cell_type": "code",
   "execution_count": null,
   "id": "a1f3718c",
   "metadata": {},
   "outputs": [],
   "source": [
    "df = pd.DataFrame(dataset.data).dropna()\n",
    "df.columns = dataset.feature_names\n",
    "df[dataset.target_names[0]] = dataset.target\n",
    "\n",
    "cols_to_clean = ['MedInc','HouseAge','AveRooms','AveBedrms','Population','AveOccup']\n",
    "\n",
    "# would look to cross validate threshold in practice\n",
    "def detect_outliers(data, threshold=5):\n",
    "    mean = np.mean(data)\n",
    "    std = np.std(data)\n",
    "    z_scores = np.abs((data - mean) / std)\n",
    "    return np.where(z_scores > threshold)[0]\n",
    "\n",
    "outliers = detect_outliers(df[cols_to_clean])\n",
    "df = df.drop(outliers, axis=0)\n",
    "\n",
    "df[cols_to_clean] = MinMaxScaler().fit_transform(df[cols_to_clean])"
   ]
  },
  {
   "cell_type": "code",
   "execution_count": null,
   "id": "d87e00d7",
   "metadata": {},
   "outputs": [],
   "source": [
    "X, y = df.iloc[:,:-1], df.iloc[:,-1]\n",
    "X_train, X_test, y_train, y_test = train_test_split(X, y, train_size=0.8, random_state=42)"
   ]
  },
  {
   "cell_type": "code",
   "execution_count": null,
   "id": "b9674bbd",
   "metadata": {},
   "outputs": [],
   "source": [
    "class Objective:\n",
    "    def __init__(self, model):\n",
    "        self.model = model\n",
    "\n",
    "    def get_score(self):\n",
    "        kf = KFold(n_splits=5, shuffle=True, random_state=42)\n",
    "        self.score = cross_val_score(self.model, X_train, y_train, cv=kf, scoring=make_scorer(mean_squared_error)).mean()\n",
    "        return self.score\n",
    "\n",
    "\n",
    "\n",
    "def objective_linear(trial):\n",
    "    params = {\n",
    "        'degree': trial.suggest_int('degree', 1, 5)\n",
    "    }\n",
    "    model = Pipeline([\n",
    "        ('poly', PolynomialFeatures(**params)),\n",
    "        ('linear', LinearRegression(fit_intercept=False))\n",
    "    ])\n",
    "    return Objective(model).get_score()\n",
    "\n",
    "\n",
    "def objective_xg(trial):\n",
    "    params = {\n",
    "        'objective': 'reg:squarederror',\n",
    "        'eval_metric': 'rmse',\n",
    "        'booster': trial.suggest_categorical('booster', ['gbtree', 'gblinear', 'dart']),\n",
    "        'learning_rate': trial.suggest_float('learning_rate', 0.01, 0.3),\n",
    "        # 'max_depth': trial.suggest_int('max_depth', 3, 10),\n",
    "        # 'subsample': trial.suggest_float('subsample', 0.5, 1),\n",
    "        # 'colsample_bytree': trial.suggest_float('colsample_bytree', 0.5, 1),\n",
    "        'lambda': trial.suggest_float('lambda', 1e-5, 1),\n",
    "        'alpha': trial.suggest_float('alpha', 1e-5, 1),\n",
    "        # 'min_child_weight': trial.suggest_int('min_child_weight', 1, 10)\n",
    "    } # some hyperparameters removed due to error messages at runtime\n",
    "    model = xgb.XGBRegressor(**params)\n",
    "    return Objective(model).get_score()\n",
    "\n",
    "def objective_svr(trial):\n",
    "    params = {\n",
    "        'kernel': trial.suggest_categorical('kernel', ['linear', 'rbf', 'poly']),\n",
    "        'C': trial.suggest_float('C', 0.1, 10),\n",
    "        'epsilon': trial.suggest_float('epsilon', 0.01, 0.1),\n",
    "    }\n",
    "    model = SVR(**params)\n",
    "    return Objective(model).get_score()\n",
    "\n",
    "def objective_decision_reg(trial):\n",
    "    params = {\n",
    "        'max_depth': trial.suggest_int('max_depth', 2, 10),\n",
    "        'min_samples_split': trial.suggest_float('min_samples_split', 0.1, 1),\n",
    "        'min_samples_leaf': trial.suggest_float('min_samples_leaf', 0.1, 0.5),\n",
    "        'max_features': trial.suggest_categorical('max_features', ['auto', 'sqrt', 'log2', None])\n",
    "    }\n",
    "    model = DecisionTreeRegressor(**params)\n",
    "    return Objective(model).get_score()\n",
    "\n",
    "def objective_rf_reg(trial):\n",
    "    params = {\n",
    "        'n_estimators': trial.suggest_int('n_estimators', 10, 100),\n",
    "        'max_depth': trial.suggest_int('max_depth', 2, 32, log=True),\n",
    "        'min_samples_split': trial.suggest_float('min_samples_split', 0.1, 1),\n",
    "        'min_samples_leaf': trial.suggest_float('min_samples_leaf', 0.1, 0.5),\n",
    "        'max_features': trial.suggest_categorical('max_features', ['auto', 'sqrt', 'log2', None])\n",
    "    }\n",
    "    model = RandomForestRegressor(**params)\n",
    "    return Objective(model).get_score()"
   ]
  },
  {
   "cell_type": "code",
   "execution_count": null,
   "id": "93346a2e",
   "metadata": {},
   "outputs": [],
   "source": [
    "err_rates = []\n",
    "\n",
    "objective_funcs = [objective_linear, objective_xg, objective_decision_reg, objective_rf_reg]\n",
    "# SVR removed due to slow training - would run on GPU if possible\n",
    "# objective_funcs = [objective_linear, objective_xg, objective_svr, objective_decision_reg, objective_rf_reg]\n",
    "for func in objective_funcs:\n",
    "    study = optuna.create_study(direction='minimize')\n",
    "    optuna.logging.set_verbosity(optuna.logging.CRITICAL)\n",
    "    study.optimize(func, n_trials=20)\n",
    "    err_rates.append({'Model': func.__name__, 'Best error': study.best_value, 'Best params': study.best_params})"
   ]
  },
  {
   "cell_type": "code",
   "execution_count": null,
   "id": "95002184",
   "metadata": {},
   "outputs": [],
   "source": [
    "df_err = pd.DataFrame(err_rates)"
   ]
  },
  {
   "cell_type": "code",
   "execution_count": null,
   "id": "b6fe10dc",
   "metadata": {},
   "outputs": [],
   "source": [
    "chosen_model = df_err.iloc[df_err['Best error'].idxmin()]"
   ]
  },
  {
   "cell_type": "code",
   "execution_count": null,
   "id": "3dab5ec1",
   "metadata": {},
   "outputs": [],
   "source": [
    "model = xgb.XGBRegressor(**chosen_model['Best params'])\n",
    "model.fit(X_train, y_train)\n",
    "model.save_model('0001.json')\n",
    "y_pred_test = model.predict(X_test)\n",
    "rmse_test = mean_squared_error(y_test, y_pred_test)"
   ]
  },
  {
   "cell_type": "code",
   "execution_count": null,
   "id": "28db4da0",
   "metadata": {},
   "outputs": [],
   "source": [
    "df_results = X_test.copy()\n",
    "df_results['MedVal'] = y_test\n",
    "df_results['PredVal'] = y_pred_test"
   ]
  },
  {
   "cell_type": "code",
   "execution_count": null,
   "id": "9e356a21",
   "metadata": {},
   "outputs": [],
   "source": [
    "new_data = pd.DataFrame({\n",
    "    'MedInc': [8.7038],\n",
    "    'HouseAge': [10.0],\n",
    "    'AveRooms': [5.037594],\n",
    "    'AveBedrms': [5.982048],\n",
    "    'Population': [1000.0],\n",
    "    'AveOccup': [4.04739],\n",
    "    'Latitude': [36.0],\n",
    "    'Longitude': [-120.04]\n",
    "})\n",
    "\n",
    "prediction = model.predict(new_data)"
   ]
  }
 ],
 "metadata": {
  "kernelspec": {
   "display_name": "Python 3 (ipykernel)",
   "language": "python",
   "name": "python3"
  },
  "language_info": {
   "codemirror_mode": {
    "name": "ipython",
    "version": 3
   },
   "file_extension": ".py",
   "mimetype": "text/x-python",
   "name": "python",
   "nbconvert_exporter": "python",
   "pygments_lexer": "ipython3",
   "version": "3.10.9"
  }
 },
 "nbformat": 4,
 "nbformat_minor": 5
}
